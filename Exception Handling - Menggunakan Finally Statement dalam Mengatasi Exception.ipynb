{
 "cells": [
  {
   "cell_type": "markdown",
   "metadata": {},
   "source": [
    "## Exception Handling - Menggunakan Finally Statement dalam Mengatasi Exception\n",
    "\n",
    "Berikut ini cara menggunakan finally statement dalam mengatasi exception. "
   ]
  },
  {
   "cell_type": "code",
   "execution_count": 4,
   "metadata": {},
   "outputs": [],
   "source": [
    "#membuat fungsi\n",
    "def divbyzero(x,y):\n",
    "    try:\n",
    "        return x/y\n",
    "    except ZeroDivisionError as zde:\n",
    "        print(zde)\n",
    "    finally:\n",
    "        print(\"Some issue happened but resources are cleared up\")"
   ]
  },
  {
   "cell_type": "code",
   "execution_count": 5,
   "metadata": {},
   "outputs": [
    {
     "name": "stdout",
     "output_type": "stream",
     "text": [
      "division by zero\n",
      "Some issue happened but resources are cleared up\n"
     ]
    }
   ],
   "source": [
    "divbyzero(5,0)"
   ]
  },
  {
   "cell_type": "markdown",
   "metadata": {},
   "source": [
    "                        #Semoga Bermanfaat\n",
    "                        #@Raspiani_"
   ]
  }
 ],
 "metadata": {
  "kernelspec": {
   "display_name": "Python 3",
   "language": "python",
   "name": "python3"
  },
  "language_info": {
   "codemirror_mode": {
    "name": "ipython",
    "version": 3
   },
   "file_extension": ".py",
   "mimetype": "text/x-python",
   "name": "python",
   "nbconvert_exporter": "python",
   "pygments_lexer": "ipython3",
   "version": "3.6.5"
  }
 },
 "nbformat": 4,
 "nbformat_minor": 2
}
