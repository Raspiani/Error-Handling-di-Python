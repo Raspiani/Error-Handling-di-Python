{
 "cells": [
  {
   "cell_type": "markdown",
   "metadata": {},
   "source": [
    "## Exception Handling - Mengatasi Error di Python Menggunakan Try dan Except\n",
    "\n",
    "Berikut ini cara mengatasi error di python menggunakan try dan except."
   ]
  },
  {
   "cell_type": "code",
   "execution_count": 3,
   "metadata": {},
   "outputs": [],
   "source": [
    "#membuat fungsi\n",
    "def tambah(x,y):\n",
    "    z = 0\n",
    "    try: \n",
    "        z = x + y\n",
    "    except:\n",
    "        print('Please input only integer or float value')\n",
    "    return z"
   ]
  },
  {
   "cell_type": "code",
   "execution_count": 4,
   "metadata": {},
   "outputs": [
    {
     "name": "stdout",
     "output_type": "stream",
     "text": [
      "Please input only integer or float value\n"
     ]
    },
    {
     "data": {
      "text/plain": [
       "0"
      ]
     },
     "execution_count": 4,
     "metadata": {},
     "output_type": "execute_result"
    }
   ],
   "source": [
    "#melihat hasil\n",
    "tambah(1, 'one')"
   ]
  },
  {
   "cell_type": "markdown",
   "metadata": {},
   "source": [
    "                        #Semoga Bermanfaat\n",
    "                        #@Raspiani_"
   ]
  }
 ],
 "metadata": {
  "kernelspec": {
   "display_name": "Python 3",
   "language": "python",
   "name": "python3"
  },
  "language_info": {
   "codemirror_mode": {
    "name": "ipython",
    "version": 3
   },
   "file_extension": ".py",
   "mimetype": "text/x-python",
   "name": "python",
   "nbconvert_exporter": "python",
   "pygments_lexer": "ipython3",
   "version": "3.6.5"
  }
 },
 "nbformat": 4,
 "nbformat_minor": 2
}
