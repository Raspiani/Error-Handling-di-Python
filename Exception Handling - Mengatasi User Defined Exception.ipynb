{
 "cells": [
  {
   "cell_type": "markdown",
   "metadata": {},
   "source": [
    "## Exception Handling - Mengatasi User Defined Exception\n",
    "\n",
    "Berikut ini cara mengatasi user defined exception."
   ]
  },
  {
   "cell_type": "code",
   "execution_count": 3,
   "metadata": {},
   "outputs": [],
   "source": [
    "#membuat class\n",
    "class myIssuees(Exception):\n",
    "    def __init__(self, message):\n",
    "        self.msg = message\n",
    "    def print_myissues(self):\n",
    "        print(\"Ini adalah my exception: \", self.msg)"
   ]
  },
  {
   "cell_type": "code",
   "execution_count": 4,
   "metadata": {},
   "outputs": [],
   "source": [
    "#membuat fungsi\n",
    "def myissues():\n",
    "    try:\n",
    "        raise myIssuees(\"Ini adalah my own exception\")\n",
    "    except myIssuees as e:\n",
    "        e.print_myissues()"
   ]
  },
  {
   "cell_type": "code",
   "execution_count": 5,
   "metadata": {},
   "outputs": [
    {
     "name": "stdout",
     "output_type": "stream",
     "text": [
      "Ini adalah my exception:  Ini adalah my own exception\n"
     ]
    }
   ],
   "source": [
    "#melihat hasil\n",
    "myissues()"
   ]
  },
  {
   "cell_type": "markdown",
   "metadata": {},
   "source": [
    "                        #Semoga Bermanfaat\n",
    "                        #@Raspiani_"
   ]
  }
 ],
 "metadata": {
  "kernelspec": {
   "display_name": "Python 3",
   "language": "python",
   "name": "python3"
  },
  "language_info": {
   "codemirror_mode": {
    "name": "ipython",
    "version": 3
   },
   "file_extension": ".py",
   "mimetype": "text/x-python",
   "name": "python",
   "nbconvert_exporter": "python",
   "pygments_lexer": "ipython3",
   "version": "3.6.5"
  }
 },
 "nbformat": 4,
 "nbformat_minor": 2
}
